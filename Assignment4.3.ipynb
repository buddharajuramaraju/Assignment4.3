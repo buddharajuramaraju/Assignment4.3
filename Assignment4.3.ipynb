{
 "cells": [
  {
   "cell_type": "markdown",
   "metadata": {},
   "source": [
    "### Problem Statement 1:\n",
    "Two balls are drawn at random in succession without replacement from an urn\n",
    "containing 4 red balls and 6 black balls.\n",
    "Find the probabilities of all the possible outcomes."
   ]
  },
  {
   "cell_type": "code",
   "execution_count": 32,
   "metadata": {
    "collapsed": true
   },
   "outputs": [],
   "source": [
    "total_red_balls = 4\n",
    "total_black_balls = 6\n",
    "total_balls = total_red_balls+total_black_balls"
   ]
  },
  {
   "cell_type": "code",
   "execution_count": 38,
   "metadata": {},
   "outputs": [
    {
     "name": "stdout",
     "output_type": "stream",
     "text": [
      "P(RED,RED) = 0.13333333333333333\n"
     ]
    }
   ],
   "source": [
    "probability_of_red_and_red = (total_red_balls/total_balls)*((total_red_balls-1)/(total_balls-1)) ## RED and RED\n",
    "print(\"P(RED,RED) = {}\".format(probability_of_red_and_red))"
   ]
  },
  {
   "cell_type": "code",
   "execution_count": 39,
   "metadata": {},
   "outputs": [
    {
     "name": "stdout",
     "output_type": "stream",
     "text": [
      "P(RED,BLACK) = 0.26666666666666666\n"
     ]
    }
   ],
   "source": [
    "probability_of_red_and_black = (total_red_balls/total_balls)*(total_black_balls/(total_balls-1)) ## RED and BLACK\n",
    "print(\"P(RED,BLACK) = {}\".format(probability_of_red_and_black))"
   ]
  },
  {
   "cell_type": "code",
   "execution_count": 40,
   "metadata": {},
   "outputs": [
    {
     "name": "stdout",
     "output_type": "stream",
     "text": [
      "P(BLACK,BLACK) = 0.3333333333333333\n"
     ]
    }
   ],
   "source": [
    "probability_of_black_and_black = (total_black_balls/total_balls)*((total_black_balls-1)/(total_balls-1)) ## BLACK and BLACK\n",
    "print(\"P(BLACK,BLACK) = {}\".format(probability_of_black_and_black))"
   ]
  },
  {
   "cell_type": "code",
   "execution_count": 41,
   "metadata": {},
   "outputs": [
    {
     "name": "stdout",
     "output_type": "stream",
     "text": [
      "P(BLACK,RED) = 0.26666666666666666\n"
     ]
    }
   ],
   "source": [
    "probability_of_black_and_red = (total_black_balls/total_balls)*(total_red_balls/(total_balls-1)) ##  BLACK and RED\n",
    "print(\"P(BLACK,RED) = {}\".format(probability_of_black_and_red))"
   ]
  },
  {
   "cell_type": "code",
   "execution_count": 42,
   "metadata": {},
   "outputs": [
    {
     "data": {
      "text/plain": [
       "1.0"
      ]
     },
     "execution_count": 42,
     "metadata": {},
     "output_type": "execute_result"
    }
   ],
   "source": [
    "probability_of_red_and_red+probability_of_red_and_black+probability_of_black_and_black+probability_of_black_and_red"
   ]
  },
  {
   "cell_type": "code",
   "execution_count": null,
   "metadata": {
    "collapsed": true
   },
   "outputs": [],
   "source": []
  },
  {
   "cell_type": "code",
   "execution_count": null,
   "metadata": {
    "collapsed": true
   },
   "outputs": [],
   "source": []
  }
 ],
 "metadata": {
  "kernelspec": {
   "display_name": "Python 3",
   "language": "python",
   "name": "python3"
  },
  "language_info": {
   "codemirror_mode": {
    "name": "ipython",
    "version": 3
   },
   "file_extension": ".py",
   "mimetype": "text/x-python",
   "name": "python",
   "nbconvert_exporter": "python",
   "pygments_lexer": "ipython3",
   "version": "3.6.3"
  }
 },
 "nbformat": 4,
 "nbformat_minor": 2
}
